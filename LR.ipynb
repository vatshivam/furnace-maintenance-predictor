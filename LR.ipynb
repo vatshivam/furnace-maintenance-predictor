{
 "cells": [
  {
   "cell_type": "code",
   "execution_count": 1,
   "id": "faddf4e9",
   "metadata": {},
   "outputs": [],
   "source": [
    "import pandas as pd\n",
    "import numpy as np\n",
    "import plotly.express as px\n",
    "import plotly.figure_factory as ff\n",
    "from plotly.subplots import make_subplots\n",
    "import plotly.graph_objects as go\n",
    "import chart_studio.plotly as py\n",
    "from plotly import tools\n",
    "import matplotlib.pyplot as plt \n",
    "from scipy import stats\n",
    "from sklearn.model_selection import train_test_split\n",
    "from sklearn.preprocessing import StandardScaler, MinMaxScaler\n",
    "from sklearn.model_selection import cross_val_score\n",
    "from sklearn.metrics import classification_report, accuracy_score, make_scorer, confusion_matrix, ConfusionMatrixDisplay\n",
    "from sklearn import svm"
   ]
  },
  {
   "cell_type": "code",
   "execution_count": 32,
   "id": "06d4a69b",
   "metadata": {},
   "outputs": [
    {
     "data": {
      "text/html": [
       "<div>\n",
       "<style scoped>\n",
       "    .dataframe tbody tr th:only-of-type {\n",
       "        vertical-align: middle;\n",
       "    }\n",
       "\n",
       "    .dataframe tbody tr th {\n",
       "        vertical-align: top;\n",
       "    }\n",
       "\n",
       "    .dataframe thead th {\n",
       "        text-align: right;\n",
       "    }\n",
       "</style>\n",
       "<table border=\"1\" class=\"dataframe\">\n",
       "  <thead>\n",
       "    <tr style=\"text-align: right;\">\n",
       "      <th></th>\n",
       "      <th>timestamp</th>\n",
       "      <th>B_18</th>\n",
       "      <th>B_2</th>\n",
       "      <th>B_19</th>\n",
       "      <th>B_16</th>\n",
       "      <th>Good/Bad</th>\n",
       "      <th>390.0</th>\n",
       "      <th>391.0</th>\n",
       "      <th>392.0</th>\n",
       "      <th>393.0</th>\n",
       "      <th>394.0</th>\n",
       "      <th>395.0</th>\n",
       "      <th>396.0</th>\n",
       "      <th>396.93</th>\n",
       "      <th>397.0</th>\n",
       "      <th>imputed</th>\n",
       "    </tr>\n",
       "  </thead>\n",
       "  <tbody>\n",
       "    <tr>\n",
       "      <th>0</th>\n",
       "      <td>2020-03-01 00:00:00</td>\n",
       "      <td>8138.62</td>\n",
       "      <td>-0.0007</td>\n",
       "      <td>8.4195</td>\n",
       "      <td>521.66</td>\n",
       "      <td>0</td>\n",
       "      <td>0</td>\n",
       "      <td>0</td>\n",
       "      <td>1</td>\n",
       "      <td>0</td>\n",
       "      <td>0</td>\n",
       "      <td>0</td>\n",
       "      <td>0</td>\n",
       "      <td>0</td>\n",
       "      <td>0</td>\n",
       "      <td>0</td>\n",
       "    </tr>\n",
       "    <tr>\n",
       "      <th>1</th>\n",
       "      <td>2020-03-01 00:05:00</td>\n",
       "      <td>8131.49</td>\n",
       "      <td>0.0019</td>\n",
       "      <td>8.4318</td>\n",
       "      <td>522.28</td>\n",
       "      <td>0</td>\n",
       "      <td>0</td>\n",
       "      <td>0</td>\n",
       "      <td>1</td>\n",
       "      <td>0</td>\n",
       "      <td>0</td>\n",
       "      <td>0</td>\n",
       "      <td>0</td>\n",
       "      <td>0</td>\n",
       "      <td>0</td>\n",
       "      <td>0</td>\n",
       "    </tr>\n",
       "    <tr>\n",
       "      <th>2</th>\n",
       "      <td>2020-03-01 00:10:00</td>\n",
       "      <td>8133.23</td>\n",
       "      <td>-0.0043</td>\n",
       "      <td>8.4178</td>\n",
       "      <td>522.42</td>\n",
       "      <td>0</td>\n",
       "      <td>1</td>\n",
       "      <td>0</td>\n",
       "      <td>0</td>\n",
       "      <td>0</td>\n",
       "      <td>0</td>\n",
       "      <td>0</td>\n",
       "      <td>0</td>\n",
       "      <td>0</td>\n",
       "      <td>0</td>\n",
       "      <td>0</td>\n",
       "    </tr>\n",
       "    <tr>\n",
       "      <th>3</th>\n",
       "      <td>2020-03-01 00:15:00</td>\n",
       "      <td>8133.83</td>\n",
       "      <td>0.0007</td>\n",
       "      <td>8.3682</td>\n",
       "      <td>522.86</td>\n",
       "      <td>0</td>\n",
       "      <td>0</td>\n",
       "      <td>0</td>\n",
       "      <td>1</td>\n",
       "      <td>0</td>\n",
       "      <td>0</td>\n",
       "      <td>0</td>\n",
       "      <td>0</td>\n",
       "      <td>0</td>\n",
       "      <td>0</td>\n",
       "      <td>0</td>\n",
       "    </tr>\n",
       "    <tr>\n",
       "      <th>4</th>\n",
       "      <td>2020-03-01 00:20:00</td>\n",
       "      <td>8133.80</td>\n",
       "      <td>-0.0019</td>\n",
       "      <td>8.4294</td>\n",
       "      <td>522.19</td>\n",
       "      <td>0</td>\n",
       "      <td>0</td>\n",
       "      <td>0</td>\n",
       "      <td>0</td>\n",
       "      <td>1</td>\n",
       "      <td>0</td>\n",
       "      <td>0</td>\n",
       "      <td>0</td>\n",
       "      <td>0</td>\n",
       "      <td>0</td>\n",
       "      <td>0</td>\n",
       "    </tr>\n",
       "  </tbody>\n",
       "</table>\n",
       "</div>"
      ],
      "text/plain": [
       "             timestamp     B_18     B_2    B_19    B_16  Good/Bad  390.0  \\\n",
       "0  2020-03-01 00:00:00  8138.62 -0.0007  8.4195  521.66         0      0   \n",
       "1  2020-03-01 00:05:00  8131.49  0.0019  8.4318  522.28         0      0   \n",
       "2  2020-03-01 00:10:00  8133.23 -0.0043  8.4178  522.42         0      1   \n",
       "3  2020-03-01 00:15:00  8133.83  0.0007  8.3682  522.86         0      0   \n",
       "4  2020-03-01 00:20:00  8133.80 -0.0019  8.4294  522.19         0      0   \n",
       "\n",
       "   391.0  392.0  393.0  394.0  395.0  396.0  396.93  397.0  imputed  \n",
       "0      0      1      0      0      0      0       0      0        0  \n",
       "1      0      1      0      0      0      0       0      0        0  \n",
       "2      0      0      0      0      0      0       0      0        0  \n",
       "3      0      1      0      0      0      0       0      0        0  \n",
       "4      0      0      1      0      0      0       0      0        0  "
      ]
     },
     "execution_count": 32,
     "metadata": {},
     "output_type": "execute_result"
    }
   ],
   "source": [
    "data = pd.read_csv(\"./data/classification_1.csv\")\n",
    "data.head()"
   ]
  },
  {
   "cell_type": "code",
   "execution_count": 33,
   "id": "41cf4199",
   "metadata": {},
   "outputs": [
    {
     "data": {
      "text/html": [
       "<div>\n",
       "<style scoped>\n",
       "    .dataframe tbody tr th:only-of-type {\n",
       "        vertical-align: middle;\n",
       "    }\n",
       "\n",
       "    .dataframe tbody tr th {\n",
       "        vertical-align: top;\n",
       "    }\n",
       "\n",
       "    .dataframe thead th {\n",
       "        text-align: right;\n",
       "    }\n",
       "</style>\n",
       "<table border=\"1\" class=\"dataframe\">\n",
       "  <thead>\n",
       "    <tr style=\"text-align: right;\">\n",
       "      <th></th>\n",
       "      <th>B_18</th>\n",
       "      <th>B_2</th>\n",
       "      <th>B_19</th>\n",
       "      <th>B_16</th>\n",
       "      <th>Good/Bad</th>\n",
       "      <th>390.0</th>\n",
       "      <th>391.0</th>\n",
       "      <th>392.0</th>\n",
       "      <th>393.0</th>\n",
       "      <th>394.0</th>\n",
       "      <th>395.0</th>\n",
       "      <th>396.0</th>\n",
       "      <th>396.93</th>\n",
       "      <th>397.0</th>\n",
       "      <th>imputed</th>\n",
       "    </tr>\n",
       "    <tr>\n",
       "      <th>timestamp</th>\n",
       "      <th></th>\n",
       "      <th></th>\n",
       "      <th></th>\n",
       "      <th></th>\n",
       "      <th></th>\n",
       "      <th></th>\n",
       "      <th></th>\n",
       "      <th></th>\n",
       "      <th></th>\n",
       "      <th></th>\n",
       "      <th></th>\n",
       "      <th></th>\n",
       "      <th></th>\n",
       "      <th></th>\n",
       "      <th></th>\n",
       "    </tr>\n",
       "  </thead>\n",
       "  <tbody>\n",
       "    <tr>\n",
       "      <th>2020-03-01 00:00:00</th>\n",
       "      <td>8138.62</td>\n",
       "      <td>-0.0007</td>\n",
       "      <td>8.4195</td>\n",
       "      <td>521.66</td>\n",
       "      <td>0</td>\n",
       "      <td>0</td>\n",
       "      <td>0</td>\n",
       "      <td>1</td>\n",
       "      <td>0</td>\n",
       "      <td>0</td>\n",
       "      <td>0</td>\n",
       "      <td>0</td>\n",
       "      <td>0</td>\n",
       "      <td>0</td>\n",
       "      <td>0</td>\n",
       "    </tr>\n",
       "    <tr>\n",
       "      <th>2020-03-01 00:05:00</th>\n",
       "      <td>8131.49</td>\n",
       "      <td>0.0019</td>\n",
       "      <td>8.4318</td>\n",
       "      <td>522.28</td>\n",
       "      <td>0</td>\n",
       "      <td>0</td>\n",
       "      <td>0</td>\n",
       "      <td>1</td>\n",
       "      <td>0</td>\n",
       "      <td>0</td>\n",
       "      <td>0</td>\n",
       "      <td>0</td>\n",
       "      <td>0</td>\n",
       "      <td>0</td>\n",
       "      <td>0</td>\n",
       "    </tr>\n",
       "    <tr>\n",
       "      <th>2020-03-01 00:10:00</th>\n",
       "      <td>8133.23</td>\n",
       "      <td>-0.0043</td>\n",
       "      <td>8.4178</td>\n",
       "      <td>522.42</td>\n",
       "      <td>0</td>\n",
       "      <td>1</td>\n",
       "      <td>0</td>\n",
       "      <td>0</td>\n",
       "      <td>0</td>\n",
       "      <td>0</td>\n",
       "      <td>0</td>\n",
       "      <td>0</td>\n",
       "      <td>0</td>\n",
       "      <td>0</td>\n",
       "      <td>0</td>\n",
       "    </tr>\n",
       "    <tr>\n",
       "      <th>2020-03-01 00:15:00</th>\n",
       "      <td>8133.83</td>\n",
       "      <td>0.0007</td>\n",
       "      <td>8.3682</td>\n",
       "      <td>522.86</td>\n",
       "      <td>0</td>\n",
       "      <td>0</td>\n",
       "      <td>0</td>\n",
       "      <td>1</td>\n",
       "      <td>0</td>\n",
       "      <td>0</td>\n",
       "      <td>0</td>\n",
       "      <td>0</td>\n",
       "      <td>0</td>\n",
       "      <td>0</td>\n",
       "      <td>0</td>\n",
       "    </tr>\n",
       "    <tr>\n",
       "      <th>2020-03-01 00:20:00</th>\n",
       "      <td>8133.80</td>\n",
       "      <td>-0.0019</td>\n",
       "      <td>8.4294</td>\n",
       "      <td>522.19</td>\n",
       "      <td>0</td>\n",
       "      <td>0</td>\n",
       "      <td>0</td>\n",
       "      <td>0</td>\n",
       "      <td>1</td>\n",
       "      <td>0</td>\n",
       "      <td>0</td>\n",
       "      <td>0</td>\n",
       "      <td>0</td>\n",
       "      <td>0</td>\n",
       "      <td>0</td>\n",
       "    </tr>\n",
       "  </tbody>\n",
       "</table>\n",
       "</div>"
      ],
      "text/plain": [
       "                        B_18     B_2    B_19    B_16  Good/Bad  390.0  391.0  \\\n",
       "timestamp                                                                      \n",
       "2020-03-01 00:00:00  8138.62 -0.0007  8.4195  521.66         0      0      0   \n",
       "2020-03-01 00:05:00  8131.49  0.0019  8.4318  522.28         0      0      0   \n",
       "2020-03-01 00:10:00  8133.23 -0.0043  8.4178  522.42         0      1      0   \n",
       "2020-03-01 00:15:00  8133.83  0.0007  8.3682  522.86         0      0      0   \n",
       "2020-03-01 00:20:00  8133.80 -0.0019  8.4294  522.19         0      0      0   \n",
       "\n",
       "                     392.0  393.0  394.0  395.0  396.0  396.93  397.0  imputed  \n",
       "timestamp                                                                       \n",
       "2020-03-01 00:00:00      1      0      0      0      0       0      0        0  \n",
       "2020-03-01 00:05:00      1      0      0      0      0       0      0        0  \n",
       "2020-03-01 00:10:00      0      0      0      0      0       0      0        0  \n",
       "2020-03-01 00:15:00      1      0      0      0      0       0      0        0  \n",
       "2020-03-01 00:20:00      0      1      0      0      0       0      0        0  "
      ]
     },
     "execution_count": 33,
     "metadata": {},
     "output_type": "execute_result"
    }
   ],
   "source": [
    "data = data.set_index(\"timestamp\")\n",
    "data.head()"
   ]
  },
  {
   "cell_type": "code",
   "execution_count": 8,
   "id": "18748ab3",
   "metadata": {},
   "outputs": [],
   "source": [
    "Label = data['Good/Bad']\n",
    "data.drop(columns=['Good/Bad'],inplace=True)"
   ]
  },
  {
   "cell_type": "code",
   "execution_count": 34,
   "id": "09045385",
   "metadata": {},
   "outputs": [],
   "source": [
    "data = data[['B_18']]"
   ]
  },
  {
   "cell_type": "code",
   "execution_count": 13,
   "id": "53d68750",
   "metadata": {},
   "outputs": [],
   "source": [
    "X_train, X_test, y_train, y_test = train_test_split(data,Label,test_size=0.2, random_state=42)\n",
    "X_train, X_val, y_train, y_val = train_test_split(X_train, y_train, test_size=0.1, random_state=42)"
   ]
  },
  {
   "cell_type": "code",
   "execution_count": 14,
   "id": "7c37085d",
   "metadata": {},
   "outputs": [],
   "source": [
    "scaler = MinMaxScaler()\n",
    "X_train = scaler.fit_transform(X_train)\n",
    "X_test = scaler.transform(X_test)\n",
    "X_val = scaler.transform(X_val)"
   ]
  },
  {
   "cell_type": "code",
   "execution_count": 15,
   "id": "3a7abc4c",
   "metadata": {},
   "outputs": [
    {
     "data": {
      "text/plain": [
       "(array([[0.16058888],\n",
       "        [0.31800447],\n",
       "        [0.13681527],\n",
       "        ...,\n",
       "        [0.21838423],\n",
       "        [0.25739999],\n",
       "        [0.11449826]]),\n",
       " (14566, 1))"
      ]
     },
     "execution_count": 15,
     "metadata": {},
     "output_type": "execute_result"
    }
   ],
   "source": [
    "X_train,X_train.shape"
   ]
  },
  {
   "cell_type": "code",
   "execution_count": 16,
   "id": "41ed98a8",
   "metadata": {},
   "outputs": [
    {
     "data": {
      "text/plain": [
       "(array([[0.254955  ],\n",
       "        [0.17364615],\n",
       "        [0.11595485],\n",
       "        ...,\n",
       "        [0.19814805],\n",
       "        [0.03521823],\n",
       "        [0.3871404 ]]),\n",
       " (4047, 1))"
      ]
     },
     "execution_count": 16,
     "metadata": {},
     "output_type": "execute_result"
    }
   ],
   "source": [
    "X_test,X_test.shape"
   ]
  },
  {
   "cell_type": "code",
   "execution_count": 30,
   "id": "ae9149ef",
   "metadata": {},
   "outputs": [
    {
     "data": {
      "text/plain": [
       "(timestamp\n",
       " 2020-03-30 00:40:00    0\n",
       " 2020-03-10 06:35:00    0\n",
       " 2020-04-05 08:40:00    0\n",
       " 2020-04-13 20:20:00    0\n",
       " 2020-04-02 19:55:00    0\n",
       " Name: Good/Bad, dtype: int64,\n",
       " (14566,))"
      ]
     },
     "execution_count": 30,
     "metadata": {},
     "output_type": "execute_result"
    }
   ],
   "source": [
    "y_train[:5], y_train.shape"
   ]
  },
  {
   "cell_type": "code",
   "execution_count": 31,
   "id": "21a798fc",
   "metadata": {},
   "outputs": [
    {
     "data": {
      "text/plain": [
       "(timestamp\n",
       " 2020-05-10 03:05:00    0\n",
       " 2020-04-14 22:35:00    0\n",
       " 2020-04-21 19:50:00    1\n",
       " 2020-04-01 13:35:00    0\n",
       " 2020-04-21 15:00:00    0\n",
       " Name: Good/Bad, dtype: int64,\n",
       " (4047,))"
      ]
     },
     "execution_count": 31,
     "metadata": {},
     "output_type": "execute_result"
    }
   ],
   "source": [
    "y_test[:5], y_test.shape"
   ]
  },
  {
   "cell_type": "code",
   "execution_count": 19,
   "id": "d07ba455",
   "metadata": {},
   "outputs": [],
   "source": [
    "from sklearn.linear_model import LogisticRegression"
   ]
  },
  {
   "cell_type": "code",
   "execution_count": 20,
   "id": "d27c739c",
   "metadata": {},
   "outputs": [
    {
     "data": {
      "text/plain": [
       "LogisticRegression()"
      ]
     },
     "execution_count": 20,
     "metadata": {},
     "output_type": "execute_result"
    }
   ],
   "source": [
    "clf = LogisticRegression()\n",
    "clf.fit(X_train,y_train)"
   ]
  },
  {
   "cell_type": "code",
   "execution_count": 21,
   "id": "45610fbf",
   "metadata": {},
   "outputs": [
    {
     "name": "stdout",
     "output_type": "stream",
     "text": [
      "Classification Report:\n",
      "              precision    recall  f1-score   support\n",
      "\n",
      "           0       0.87      1.00      0.93      3429\n",
      "           1       0.98      0.20      0.33       618\n",
      "\n",
      "    accuracy                           0.88      4047\n",
      "   macro avg       0.92      0.60      0.63      4047\n",
      "weighted avg       0.89      0.88      0.84      4047\n",
      "\n"
     ]
    },
    {
     "data": {
      "text/plain": [
       "Text(0.5, 1.0, 'Confusion matrix')"
      ]
     },
     "execution_count": 21,
     "metadata": {},
     "output_type": "execute_result"
    },
    {
     "data": {
      "image/png": "[encoded data removed]",
      "text/plain": [
       "<Figure size 800x600 with 2 Axes>"
      ]
     },
     "metadata": {},
     "output_type": "display_data"
    }
   ],
   "source": [
    "y_pred = clf.predict(X_test)\n",
    "cm = confusion_matrix(y_test, y_pred)\n",
    "cr = classification_report(y_test, y_pred)\n",
    "print(\"Classification Report:\")\n",
    "print(cr)\n",
    "disp = ConfusionMatrixDisplay(cm, display_labels=clf.classes_)\n",
    "fig, ax = plt.subplots(figsize=(8, 6))\n",
    "disp.plot(ax=ax)\n",
    "ax.set_title('Confusion matrix')"
   ]
  },
  {
   "cell_type": "code",
   "execution_count": 36,
   "id": "4a197c90",
   "metadata": {},
   "outputs": [
    {
     "name": "stdout",
     "output_type": "stream",
     "text": [
      "[7.14252104] [-3.45959706]\n"
     ]
    }
   ],
   "source": [
    "slope = clf.coef_\n",
    "intercept = clf.intercept_\n",
    "print(slope[0],intercept)"
   ]
  },
  {
   "cell_type": "code",
   "execution_count": 35,
   "id": "8ea40780",
   "metadata": {},
   "outputs": [
    {
     "data": {
      "image/png": "[encoded data removed]",
      "text/plain": [
       "<Figure size 640x480 with 1 Axes>"
      ]
     },
     "metadata": {},
     "output_type": "display_data"
    }
   ],
   "source": [
    "def abline(slope, intercept):\n",
    "    \"\"\"Plot a line from slope and intercept\"\"\"\n",
    "    axes = plt.gca()\n",
    "    x_vals = np.array(axes.get_xlim())\n",
    "    y_vals = intercept + slope[0] * x_vals\n",
    "    plt.plot(x_vals, y_vals, '--')\n",
    "    plt.xlabel(\"independent variable\")\n",
    "    plt.ylabel(\"dependent variable\")\n",
    "abline(slope,intercept)"
   ]
  },
  {
   "cell_type": "code",
   "execution_count": 29,
   "id": "c66989e6",
   "metadata": {},
   "outputs": [
    {
     "ename": "NameError",
     "evalue": "name 'x' is not defined",
     "output_type": "error",
     "traceback": [
      "\u001b[1;31m---------------------------------------------------------------------------\u001b[0m",
      "\u001b[1;31mNameError\u001b[0m                                 Traceback (most recent call last)",
      "\u001b[1;32m~\\AppData\\Local\\Temp\\ipykernel_17108\\2547854417.py\u001b[0m in \u001b[0;36m<module>\u001b[1;34m\u001b[0m\n\u001b[1;32m----> 1\u001b[1;33m \u001b[0mres\u001b[0m \u001b[1;33m=\u001b[0m \u001b[0mslope\u001b[0m\u001b[1;33m[\u001b[0m\u001b[1;36m0\u001b[0m\u001b[1;33m]\u001b[0m\u001b[1;33m*\u001b[0m\u001b[0mx\u001b[0m\u001b[1;33m+\u001b[0m\u001b[0mintercept\u001b[0m\u001b[1;33m\u001b[0m\u001b[1;33m\u001b[0m\u001b[0m\n\u001b[0m\u001b[0;32m      2\u001b[0m \u001b[0mans\u001b[0m \u001b[1;33m=\u001b[0m \u001b[1;36m1\u001b[0m\u001b[1;33m/\u001b[0m\u001b[1;33m(\u001b[0m\u001b[1;36m1\u001b[0m\u001b[1;33m+\u001b[0m\u001b[0mnp\u001b[0m\u001b[1;33m.\u001b[0m\u001b[0mexp\u001b[0m\u001b[1;33m(\u001b[0m\u001b[1;33m-\u001b[0m\u001b[0mres\u001b[0m\u001b[1;33m)\u001b[0m\u001b[1;33m)\u001b[0m\u001b[1;33m\u001b[0m\u001b[1;33m\u001b[0m\u001b[0m\n",
      "\u001b[1;31mNameError\u001b[0m: name 'x' is not defined"
     ]
    }
   ],
   "source": [
    "res = 7.14252104*x - 3.45959706\n",
    "ans = 1/(1+np.exp(-res))"
   ]
  },
  {
   "cell_type": "code",
   "execution_count": null,
   "id": "9c2f78a4",
   "metadata": {},
   "outputs": [],
   "source": []
  }
 ],
 "metadata": {
  "kernelspec": {
   "display_name": "Python 3 (ipykernel)",
   "language": "python",
   "name": "python3"
  },
  "language_info": {
   "codemirror_mode": {
    "name": "ipython",
    "version": 3
   },
   "file_extension": ".py",
   "mimetype": "text/x-python",
   "name": "python",
   "nbconvert_exporter": "python",
   "pygments_lexer": "ipython3",
   "version": "3.7.7"
  }
 },
 "nbformat": 4,
 "nbformat_minor": 5
}
