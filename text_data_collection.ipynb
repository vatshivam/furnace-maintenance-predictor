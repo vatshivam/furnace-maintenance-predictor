{
 "cells": [
  {
   "cell_type": "code",
   "execution_count": 1,
   "metadata": {},
   "outputs": [],
   "source": [
    "import requests\n",
    "import json\n",
    "import pandas as pd\n",
    "import numpy as np"
   ]
  },
  {
   "cell_type": "code",
   "execution_count": 28,
   "metadata": {},
   "outputs": [],
   "source": [
    "keyword = 'aluminium recycle'\n",
    "url = 'https://newsapi.org/v2/everything?q={}&apiKey=f35cca6d590c4ccd9d1d1d3defe0fdca&language=en'.format(keyword)"
   ]
  },
  {
   "cell_type": "code",
   "execution_count": 25,
   "metadata": {},
   "outputs": [],
   "source": [
    "headlines = []\n",
    "res = requests.get(url)\n",
    "data = json.loads(res.content)\n",
    "pages = (data['totalResults']//100) + 1\n",
    "page=1\n",
    "while page<=pages:\n",
    "    per_page = requests.get(url+\"page=\"+str(page))\n",
    "    headlines = headlines + [article['title'] for article in data['articles']]\n",
    "    page+=1"
   ]
  },
  {
   "cell_type": "code",
   "execution_count": 30,
   "metadata": {},
   "outputs": [],
   "source": [
    "corpus = []\n",
    "res = requests.get(url)\n",
    "data = json.loads(res.content)\n",
    "pages = (data['totalResults']//100) + 1\n",
    "page=1\n",
    "while page<=pages:\n",
    "    per_page = requests.get(url+\"page=\"+str(page))\n",
    "    corpus = corpus + [article['content'] for article in data['articles']]\n",
    "    page+=1"
   ]
  },
  {
   "cell_type": "code",
   "execution_count": 34,
   "metadata": {
    "scrolled": true
   },
   "outputs": [
    {
     "data": {
      "text/plain": [
       "\"Most Australians are pretty good at sorting their waste into paper, plastic, glass and organics but what's the point of recycling?\\r\\nDoesn't it just all end up in landfill anyway?\\r\\nNot quite but the r… [+5229 chars]\""
      ]
     },
     "execution_count": 34,
     "metadata": {},
     "output_type": "execute_result"
    }
   ],
   "source": [
    "corpus[1]"
   ]
  },
  {
   "cell_type": "code",
   "execution_count": 102,
   "metadata": {},
   "outputs": [],
   "source": [
    "sp_char = '[@_!#$%^&*()<>?/\\|}{~£+:.-]™\"'\n",
    "regex = re.compile('[@_!#$%^&*()<>?/\\|}{~:]')\n",
    "cleaned = []\n",
    "for i in range(len(headlines)):\n",
    "    headlines[i] = headlines[i].replace(\"- Reuters\",\"\")\n",
    "    \n",
    "    for char in headlines[i]:\n",
    "        if char in sp_char or char.isnumeric():\n",
    "            headlines[i] = headlines[i].replace(char,\"\")"
   ]
  },
  {
   "cell_type": "code",
   "execution_count": 27,
   "metadata": {},
   "outputs": [
    {
     "data": {
      "text/plain": [
       "['Scientists develop the cheapest carbon capture system to date',\n",
       " 'Is recycling really worth it? Turns out, the system is far from perfect',\n",
       " 'Gerry last took his landfill bin out seven years ago. He wants others to follow his lead',\n",
       " 'Irn-Bru and Rubicon maker AG Barr set for higher profits as sales flow',\n",
       " 'Hindalco Looking To Set Up Rs 3,000-Crore Aluminium Recycle Unit',\n",
       " 'Markets for many commonly recycled materials struggle in the EU',\n",
       " 'Global Solar Panel Recycling market is projected to grow at a CAGR of 10.4% by 2033: Visiongain Reports Ltd',\n",
       " 'Exocytosis of the silicified cell wall of diatoms involves extensive membrane disintegration',\n",
       " 'Norsk Hydro: 2022 record results, Q4 down on lower prices',\n",
       " 'Academia and industry: alliances for future sustainability - University World News',\n",
       " 'Samsung Galaxy S23 Ultra first impressions: Familiar, and yet worlds apart',\n",
       " \"Why is Scotland's deposit return scheme under fire?\",\n",
       " 'Centre to push primary steel producers to use 50% of input from recycled steel by 2047, says Scindia',\n",
       " 'Govt to push producers to use recycled steel as 50% input by 2047: Scindia',\n",
       " 'TV ad: Nespresso: How far would you go for the Unforgettable Taste of a Nespresso coffee',\n",
       " 'Irn-Bru and Rubicon maker AG Barr set for higher profits as sales flow',\n",
       " 'Semirigid PET Multilayers Film for Food Package Market to Perceive Prominent Growth of 332,767.32 Thousand by 2029, Size, Share, Trends, Demand, Segmentation and Competitive Analysis',\n",
       " 'Semirigid PET Multilayers Film for Food Package Market to Perceive Prominent Growth of 332,767.32 Thousand by 2029, Size, Share, Trends, Demand, Segmentation and Competitive Analysis',\n",
       " 'New Pacific Metals : Silver Sand Deposit Preliminary Economic Assessment - Form 6-K',\n",
       " 'Keeping the faith, without the filth']"
      ]
     },
     "execution_count": 27,
     "metadata": {},
     "output_type": "execute_result"
    }
   ],
   "source": [
    "headlines"
   ]
  },
  {
   "cell_type": "code",
   "execution_count": 104,
   "metadata": {},
   "outputs": [],
   "source": [
    "dic = {'headlines':headlines}"
   ]
  },
  {
   "cell_type": "code",
   "execution_count": 105,
   "metadata": {},
   "outputs": [],
   "source": [
    "df = pd.DataFrame(dic) "
   ]
  },
  {
   "cell_type": "code",
   "execution_count": 107,
   "metadata": {},
   "outputs": [],
   "source": [
    "df.to_csv(\"headlines.csv\")"
   ]
  },
  {
   "cell_type": "code",
   "execution_count": null,
   "metadata": {},
   "outputs": [],
   "source": []
  }
 ],
 "metadata": {
  "kernelspec": {
   "display_name": "Python 3 (ipykernel)",
   "language": "python",
   "name": "python3"
  },
  "language_info": {
   "codemirror_mode": {
    "name": "ipython",
    "version": 3
   },
   "file_extension": ".py",
   "mimetype": "text/x-python",
   "name": "python",
   "nbconvert_exporter": "python",
   "pygments_lexer": "ipython3",
   "version": "3.7.7"
  }
 },
 "nbformat": 4,
 "nbformat_minor": 4
}
